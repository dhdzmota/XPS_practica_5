{
 "cells": [
  {
   "cell_type": "code",
   "execution_count": 57,
   "metadata": {},
   "outputs": [],
   "source": [
    "import os\n",
    "import pandas as pd\n",
    "import numpy as np"
   ]
  },
  {
   "cell_type": "code",
   "execution_count": 58,
   "metadata": {},
   "outputs": [],
   "source": [
    "with open('data.xy', 'r') as fout:\n",
    "    value = fout.read()\n",
    "survey_list=[]\n",
    "si2p_list=[]\n",
    "o1s_list=[]\n",
    "c1s_list=[]\n",
    "other_list=[]\n",
    "for patch in value.split('\\n\\n'):\n",
    "    if 'Survey' in patch:\n",
    "        survey_list.append(patch)\n",
    "    elif 'Si2p' in patch:\n",
    "        si2p_list.append(patch)\n",
    "    elif 'O1s' in patch:\n",
    "        o1s_list.append(patch)\n",
    "    elif 'C1s' in patch:\n",
    "        c1s_list.append(patch)\n",
    "    else:\n",
    "        other_list.append(patch)"
   ]
  },
  {
   "cell_type": "code",
   "execution_count": 59,
   "metadata": {},
   "outputs": [],
   "source": [
    "# Process the Survey files as dataframes:\n",
    "for i in range(len(survey_list)):\n",
    "    comparer= survey_list[i].split('# ')\n",
    "    if 'Group' in comparer[1]:\n",
    "        comparer=comparer[1:]\n",
    "    # Sometimes the spectrum has two times the group parameter\n",
    "    if 'Group'in comparer[1]:\n",
    "        comparer=comparer[1:] \n",
    "    # Use the acquisition date as primary name\n",
    "    name1 = comparer[2].split('Acquisition Date:  ')[1].split(' U')[0].replace(':','-').replace('/','-').replace(' ','_')\n",
    "    name2 = comparer[18].split('Comment:           ')[1].replace('\\n#\\n','').replace(' ','_')    \n",
    "    \n",
    "    # Obtain only the numerical data\n",
    "    numerical_data = comparer[-1].split('\\n')[2:]\n",
    "    \n",
    "    #Generate a dataframe and obtain the files\n",
    "    dataframe = pd.DataFrame([pair.split('  ') for pair in numerical_data], dtype=float, columns=['BE','counts/s'])\n",
    "    dataframe.to_csv(f'./SURVEY/CSV/{name1}_survey_({name2}).csv',index=False)\n",
    "    dataframe.to_csv(f'./SURVEY/TXT/{name1}_survey_({name2}).txt',index=False)\n"
   ]
  },
  {
   "cell_type": "code",
   "execution_count": 60,
   "metadata": {},
   "outputs": [],
   "source": [
    "# Process the Oxygen files as dataframes:\n",
    "for i in range(len(o1s_list)):\n",
    "    # Use the acquisition date as primary name\n",
    "    name1 = o1s_list[i].split('# ')[2].split('Acquisition Date:  ')[1].split(' U')[0].replace(':','-').replace('/','-').replace(' ','_')\n",
    "    \n",
    "    # Use the comment as secondary name\n",
    "    name2 = o1s_list[i].split('# ')[18].split('Comment:           ')[1].replace('\\n#\\n','').replace(' ','_')\n",
    "    \n",
    "    # Obtain only the numerical data\n",
    "    numerical_data = o1s_list[i].split('# ')[-1].split('\\n')[2:]\n",
    "    \n",
    "    #Generate a dataframe and obtain the files\n",
    "    dataframe = pd.DataFrame([pair.split('  ') for pair in numerical_data], dtype=float, columns=['BE','counts/s'])\n",
    "    dataframe.to_csv(f'./O1S/CSV/{name1}_o1s_({name2}).csv',index=False)\n",
    "    dataframe.to_csv(f'./O1S/TXT/{name1}_o1s_({name2}).txt',index=False)"
   ]
  },
  {
   "cell_type": "code",
   "execution_count": 61,
   "metadata": {},
   "outputs": [],
   "source": [
    "# Process the Silicon files as dataframes:\n",
    "for i in range(len(si2p_list)):\n",
    "    # Use the acquisition date as primary name\n",
    "    name1 = si2p_list[i].split('# ')[2].split('Acquisition Date:  ')[1].split(' U')[0].replace(':','-').replace('/','-').replace(' ','_')\n",
    "    \n",
    "    # Use the comment as secondary name\n",
    "    name2 = si2p_list[i].split('# ')[18].split('Comment:           ')[1].replace('\\n#\\n','').replace(' ','_')\n",
    "    \n",
    "    # Obtain only the numerical data\n",
    "    numerical_data = si2p_list[i].split('# ')[-1].split('\\n')[2:]\n",
    "    \n",
    "    #Generate a dataframe and obtain the files\n",
    "    dataframe = pd.DataFrame([pair.split('  ') for pair in numerical_data], dtype=float, columns=['BE','counts/s'])\n",
    "    dataframe.to_csv(f'./Si2p/CSV/{name1}_si2p_({name2}).csv',index=False)\n",
    "    dataframe.to_csv(f'./Si2p/TXT/{name1}_si2p_({name2}).txt',index=False)"
   ]
  },
  {
   "cell_type": "code",
   "execution_count": 62,
   "metadata": {},
   "outputs": [],
   "source": [
    "# #Process the Silicon files as dataframes:\n",
    "for i in range(len(c1s_list)):\n",
    "    # Use the acquisition date as primary name\n",
    "    name1 = c1s_list[i].split('# ')[2].split('Acquisition Date:  ')[1].split(' U')[0].replace(':','-').replace('/','-').replace(' ','_')\n",
    "    \n",
    "    # Use the comment as secondary name\n",
    "    name2 = c1s_list[i].split('# ')[18].split('Comment:           ')[1].replace('\\n#\\n','').replace(' ','_')\n",
    "    \n",
    "    # Obtain only the numerical data\n",
    "    numerical_data = c1s_list[i].split('# ')[-1].split('\\n')[2:]\n",
    "    \n",
    "    #Generate a dataframe and obtain the files\n",
    "    dataframe = pd.DataFrame([pair.split('  ') for pair in numerical_data], dtype=float, columns=['BE','counts/s'])\n",
    "    dataframe.to_csv(f'./C1S/CSV/{name1}_c1s_({name2}).csv',index=False)\n",
    "    dataframe.to_csv(f'./C1S/TXT/{name1}_c1s_({name2}).txt',index=False)"
   ]
  },
  {
   "cell_type": "code",
   "execution_count": 52,
   "metadata": {
    "scrolled": true
   },
   "outputs": [],
   "source": [
    "\n",
    "# for i in range(len(total_list)):\n",
    "#     try:\n",
    "#         num = len(total_list)-1-i\n",
    "#         df = pd.DataFrame([pair.split('  ') for pair in\n",
    "#               total_list[num].split('#\\n')[-1].split('\\n')[:-2]],\n",
    "#              dtype=float, columns=['BE','Counts'])\n",
    "#         name_indicators = total_list[num].split(')')[0].replace(' ','').split('(')\n",
    "#         name_indicators2 = total_list[num].split('Comment:')[1].split('\\n#')[0].replace(\" \",\"\").replace('grados','')\n",
    "\n",
    "#         if name_indicators2 == '':\n",
    "#             name = name_indicators[1] + '_' + name_indicators[0]\n",
    "#             print(i,name)\n",
    "#         else:\n",
    "#             name = name_indicators[1] + '_' + name_indicators[0] + '_' + name_indicators2\n",
    "#             print(i,name)\n",
    "#         df.to_csv(f'./Results/{name}.txt', index=False)\n",
    "#     except:\n",
    "#         pass"
   ]
  },
  {
   "cell_type": "code",
   "execution_count": 77,
   "metadata": {},
   "outputs": [],
   "source": [
    "other_list[0].split('# ')[16].split('Acquisition Date:  ')[1].split(' U')[0].replace(':','-').replace('/','-').replace(' ','_')\n",
    "numerical_data = other_list[0].split('# ')[-1].split('\\n')[2:]\n",
    "dataframe = pd.DataFrame([pair.split('  ') for pair in numerical_data], dtype=float, columns=['BE','counts/s'])\n",
    "dataframe.to_csv(f'./SURVEY/CSV/{name1}_survey_().csv',index=False)\n",
    "dataframe.to_csv(f'./SURVEY/CSV/{name1}_survey_().txt',index=False)"
   ]
  }
 ],
 "metadata": {
  "kernelspec": {
   "display_name": "Python 3",
   "language": "python",
   "name": "python3"
  },
  "language_info": {
   "codemirror_mode": {
    "name": "ipython",
    "version": 3
   },
   "file_extension": ".py",
   "mimetype": "text/x-python",
   "name": "python",
   "nbconvert_exporter": "python",
   "pygments_lexer": "ipython3",
   "version": "3.7.3"
  }
 },
 "nbformat": 4,
 "nbformat_minor": 2
}
